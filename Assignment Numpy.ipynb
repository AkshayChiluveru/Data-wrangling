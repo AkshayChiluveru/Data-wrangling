{
 "cells": [
  {
   "cell_type": "code",
   "execution_count": 1,
   "id": "28a37f8a",
   "metadata": {},
   "outputs": [],
   "source": [
    "import numpy as np\n",
    "import pandas as pd\n",
    "import matplotlib.pyplot as plt\n",
    "import seaborn as sns"
   ]
  },
  {
   "cell_type": "markdown",
   "id": "7a7d7ae4",
   "metadata": {},
   "source": [
    "### 1. Create a null vector of size 10 but the fifth value which is 1.\n"
   ]
  },
  {
   "cell_type": "code",
   "execution_count": 4,
   "id": "c181d29a",
   "metadata": {},
   "outputs": [
    {
     "data": {
      "text/plain": [
       "array([0., 0., 0., 0., 1., 0., 0., 0., 0., 0.])"
      ]
     },
     "execution_count": 4,
     "metadata": {},
     "output_type": "execute_result"
    }
   ],
   "source": [
    "null_vector = np.zeros([10])\n",
    "null_vector[4] = 1\n",
    "null_vector"
   ]
  },
  {
   "cell_type": "markdown",
   "id": "cca6524e",
   "metadata": {},
   "source": [
    "### 2. Create a vector with values ranging from 10 to 49.\n"
   ]
  },
  {
   "cell_type": "code",
   "execution_count": 6,
   "id": "2f01bc70",
   "metadata": {},
   "outputs": [
    {
     "data": {
      "text/plain": [
       "array([10, 11, 12, 13, 14, 15, 16, 17, 18, 19, 20, 21, 22, 23, 24, 25, 26,\n",
       "       27, 28, 29, 30, 31, 32, 33, 34, 35, 36, 37, 38, 39, 40, 41, 42, 43,\n",
       "       44, 45, 46, 47, 48, 49])"
      ]
     },
     "execution_count": 6,
     "metadata": {},
     "output_type": "execute_result"
    }
   ],
   "source": [
    "arr = np.arange(10,50)\n",
    "arr"
   ]
  },
  {
   "cell_type": "markdown",
   "id": "c3e1a044",
   "metadata": {},
   "source": [
    "### 3. Create a 3x3 matrix with values ranging from 0 to 8"
   ]
  },
  {
   "cell_type": "code",
   "execution_count": 7,
   "id": "fdba5091",
   "metadata": {},
   "outputs": [
    {
     "data": {
      "text/plain": [
       "array([[0, 1, 2],\n",
       "       [3, 4, 5],\n",
       "       [6, 7, 8]])"
      ]
     },
     "execution_count": 7,
     "metadata": {},
     "output_type": "execute_result"
    }
   ],
   "source": [
    "arr1 = np.arange(0,9).reshape(3,3)\n",
    "arr1"
   ]
  },
  {
   "cell_type": "markdown",
   "id": "c2f8dc29",
   "metadata": {},
   "source": [
    "### 4. Find indices of non-zero elements from [1,2,0,0,4,0]"
   ]
  },
  {
   "cell_type": "code",
   "execution_count": 11,
   "id": "faf6c39f",
   "metadata": {},
   "outputs": [
    {
     "data": {
      "text/plain": [
       "(array([0, 1, 4], dtype=int64),)"
      ]
     },
     "execution_count": 11,
     "metadata": {},
     "output_type": "execute_result"
    }
   ],
   "source": [
    "arr = np.array([1, 2, 0, 0, 4, 0])\n",
    "arr1 = np.nonzero(arr)\n",
    "arr1"
   ]
  },
  {
   "cell_type": "markdown",
   "id": "b2c98257",
   "metadata": {},
   "source": [
    "### 5. Create a 10x10 array with random values and find the minimum and maximum values."
   ]
  },
  {
   "cell_type": "code",
   "execution_count": 18,
   "id": "4f6b7d0e",
   "metadata": {},
   "outputs": [
    {
     "data": {
      "text/plain": [
       "array([593, 320, 500, 288, 745, 836, 333, 372, 198, 423, 393, 704, 590,\n",
       "       897, 942, 864, 202, 802, 929, 698, 400, 903, 819, 539, 434, 528,\n",
       "       427, 630, 370, 664, 737, 380, 580, 528, 631, 636, 100, 114, 272,\n",
       "       635, 210, 907, 864, 523, 740, 390, 597, 317, 321, 453, 826, 553,\n",
       "       847, 914, 914, 888, 820, 992, 263, 325, 874, 886, 501, 200, 129,\n",
       "       151, 841, 566, 905, 843, 183, 247, 622, 601, 929, 610, 132, 703,\n",
       "       202, 140, 244, 469, 324, 587, 625, 191, 496, 900, 895, 278, 868,\n",
       "       801, 404, 437, 770, 691, 842, 559, 433, 515])"
      ]
     },
     "execution_count": 18,
     "metadata": {},
     "output_type": "execute_result"
    }
   ],
   "source": [
    "import random\n",
    "arr2 = np.random.randint(100,1000,100)\n",
    "arr2"
   ]
  },
  {
   "cell_type": "code",
   "execution_count": 19,
   "id": "401f5188",
   "metadata": {},
   "outputs": [
    {
     "data": {
      "text/plain": [
       "array([[593, 320, 500, 288, 745, 836, 333, 372, 198, 423],\n",
       "       [393, 704, 590, 897, 942, 864, 202, 802, 929, 698],\n",
       "       [400, 903, 819, 539, 434, 528, 427, 630, 370, 664],\n",
       "       [737, 380, 580, 528, 631, 636, 100, 114, 272, 635],\n",
       "       [210, 907, 864, 523, 740, 390, 597, 317, 321, 453],\n",
       "       [826, 553, 847, 914, 914, 888, 820, 992, 263, 325],\n",
       "       [874, 886, 501, 200, 129, 151, 841, 566, 905, 843],\n",
       "       [183, 247, 622, 601, 929, 610, 132, 703, 202, 140],\n",
       "       [244, 469, 324, 587, 625, 191, 496, 900, 895, 278],\n",
       "       [868, 801, 404, 437, 770, 691, 842, 559, 433, 515]])"
      ]
     },
     "execution_count": 19,
     "metadata": {},
     "output_type": "execute_result"
    }
   ],
   "source": [
    "arr2.reshape(10,10)"
   ]
  },
  {
   "cell_type": "code",
   "execution_count": 22,
   "id": "d463ab7f",
   "metadata": {},
   "outputs": [
    {
     "name": "stdout",
     "output_type": "stream",
     "text": [
      "992\n",
      "100\n"
     ]
    }
   ],
   "source": [
    "print(max(arr2))\n",
    "print(min(arr2))"
   ]
  },
  {
   "cell_type": "code",
   "execution_count": 23,
   "id": "ba9be413",
   "metadata": {},
   "outputs": [
    {
     "data": {
      "text/plain": [
       "numpy.ndarray"
      ]
     },
     "execution_count": 23,
     "metadata": {},
     "output_type": "execute_result"
    }
   ],
   "source": [
    "type(arr2)"
   ]
  },
  {
   "cell_type": "code",
   "execution_count": null,
   "id": "111775b9",
   "metadata": {},
   "outputs": [],
   "source": []
  }
 ],
 "metadata": {
  "kernelspec": {
   "display_name": "Python 3 (ipykernel)",
   "language": "python",
   "name": "python3"
  },
  "language_info": {
   "codemirror_mode": {
    "name": "ipython",
    "version": 3
   },
   "file_extension": ".py",
   "mimetype": "text/x-python",
   "name": "python",
   "nbconvert_exporter": "python",
   "pygments_lexer": "ipython3",
   "version": "3.9.13"
  }
 },
 "nbformat": 4,
 "nbformat_minor": 5
}
