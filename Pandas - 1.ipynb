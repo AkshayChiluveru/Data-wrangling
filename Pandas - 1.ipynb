{
 "cells": [
  {
   "cell_type": "code",
   "execution_count": 1,
   "id": "10d21590",
   "metadata": {},
   "outputs": [],
   "source": [
    "# Data Analysis\n",
    "\n",
    "import pandas as pd\n",
    "import numpy as np\n",
    "\n",
    "# Data Visualization\n",
    "\n",
    "import matplotlib.pyplot as plt\n",
    "import seaborn as sns"
   ]
  },
  {
   "cell_type": "code",
   "execution_count": 2,
   "id": "a38e0b64",
   "metadata": {},
   "outputs": [
    {
     "data": {
      "text/plain": [
       "{'Name': ['Akshay', 'Naveena', 'Nithin', 'Naina', 'Tinku', 'Nainika'],\n",
       " 'Age': [23, 28, 30, 5, 24, 6],\n",
       " 'Gender': ['Male', 'Female', 'Male', 'Female', 'Male', 'Female'],\n",
       " 'Salary': [200, 300, 755, 444, 288, 900]}"
      ]
     },
     "execution_count": 2,
     "metadata": {},
     "output_type": "execute_result"
    }
   ],
   "source": [
    "dic = {\n",
    "    'Name': [\"Akshay\",\"Naveena\",\"Nithin\",\"Naina\",\"Tinku\",\"Nainika\"],\n",
    "    'Age': [23,28,30,5,24,6],\n",
    "    'Gender': [\"Male\",\"Female\",\"Male\", \"Female\",\"Male\",\"Female\"],\n",
    "    'Salary' : [200,300,755,444,288,900]\n",
    "     }\n",
    "\n",
    "dic"
   ]
  },
  {
   "cell_type": "code",
   "execution_count": 40,
   "id": "5cf082a5",
   "metadata": {},
   "outputs": [
    {
     "data": {
      "text/html": [
       "<div>\n",
       "<style scoped>\n",
       "    .dataframe tbody tr th:only-of-type {\n",
       "        vertical-align: middle;\n",
       "    }\n",
       "\n",
       "    .dataframe tbody tr th {\n",
       "        vertical-align: top;\n",
       "    }\n",
       "\n",
       "    .dataframe thead th {\n",
       "        text-align: right;\n",
       "    }\n",
       "</style>\n",
       "<table border=\"1\" class=\"dataframe\">\n",
       "  <thead>\n",
       "    <tr style=\"text-align: right;\">\n",
       "      <th></th>\n",
       "      <th>Name</th>\n",
       "      <th>Age</th>\n",
       "      <th>Gender</th>\n",
       "      <th>Salary</th>\n",
       "    </tr>\n",
       "  </thead>\n",
       "  <tbody>\n",
       "    <tr>\n",
       "      <th>0</th>\n",
       "      <td>Akshay</td>\n",
       "      <td>23</td>\n",
       "      <td>Male</td>\n",
       "      <td>200</td>\n",
       "    </tr>\n",
       "    <tr>\n",
       "      <th>1</th>\n",
       "      <td>Naveena</td>\n",
       "      <td>28</td>\n",
       "      <td>Female</td>\n",
       "      <td>300</td>\n",
       "    </tr>\n",
       "    <tr>\n",
       "      <th>2</th>\n",
       "      <td>Nithin</td>\n",
       "      <td>30</td>\n",
       "      <td>Male</td>\n",
       "      <td>755</td>\n",
       "    </tr>\n",
       "    <tr>\n",
       "      <th>3</th>\n",
       "      <td>Naina</td>\n",
       "      <td>5</td>\n",
       "      <td>Female</td>\n",
       "      <td>444</td>\n",
       "    </tr>\n",
       "    <tr>\n",
       "      <th>4</th>\n",
       "      <td>Tinku</td>\n",
       "      <td>24</td>\n",
       "      <td>Male</td>\n",
       "      <td>288</td>\n",
       "    </tr>\n",
       "    <tr>\n",
       "      <th>5</th>\n",
       "      <td>Nainika</td>\n",
       "      <td>6</td>\n",
       "      <td>Female</td>\n",
       "      <td>900</td>\n",
       "    </tr>\n",
       "  </tbody>\n",
       "</table>\n",
       "</div>"
      ],
      "text/plain": [
       "      Name  Age  Gender  Salary\n",
       "0   Akshay   23    Male     200\n",
       "1  Naveena   28  Female     300\n",
       "2   Nithin   30    Male     755\n",
       "3    Naina    5  Female     444\n",
       "4    Tinku   24    Male     288\n",
       "5  Nainika    6  Female     900"
      ]
     },
     "execution_count": 40,
     "metadata": {},
     "output_type": "execute_result"
    }
   ],
   "source": [
    "data5 = pd.DataFrame(dic)\n",
    "data5"
   ]
  },
  {
   "cell_type": "code",
   "execution_count": 6,
   "id": "f5901d09",
   "metadata": {},
   "outputs": [
    {
     "data": {
      "text/plain": [
       "pandas.core.frame.DataFrame"
      ]
     },
     "execution_count": 6,
     "metadata": {},
     "output_type": "execute_result"
    }
   ],
   "source": [
    "type(data)"
   ]
  },
  {
   "cell_type": "code",
   "execution_count": 7,
   "id": "bf68a132",
   "metadata": {},
   "outputs": [
    {
     "data": {
      "text/plain": [
       "0     Akshay\n",
       "1    Naveena\n",
       "2     Nithin\n",
       "3      Naina\n",
       "4      Tinku\n",
       "5    Nainika\n",
       "Name: Name, dtype: object"
      ]
     },
     "execution_count": 7,
     "metadata": {},
     "output_type": "execute_result"
    }
   ],
   "source": [
    "data['Name']"
   ]
  },
  {
   "cell_type": "code",
   "execution_count": 8,
   "id": "f6dddc32",
   "metadata": {},
   "outputs": [
    {
     "data": {
      "text/plain": [
       "Name      Akshay\n",
       "Age           23\n",
       "Gender      Male\n",
       "Salary       200\n",
       "Name: 0, dtype: object"
      ]
     },
     "execution_count": 8,
     "metadata": {},
     "output_type": "execute_result"
    }
   ],
   "source": [
    "data.iloc[0]"
   ]
  },
  {
   "cell_type": "markdown",
   "id": "8d82a5b3",
   "metadata": {},
   "source": [
    "## Every individual columns and Every individual row of a DataFrame is a series"
   ]
  },
  {
   "cell_type": "markdown",
   "id": "ea069af0",
   "metadata": {},
   "source": [
    "## Loading the data from a csv file"
   ]
  },
  {
   "cell_type": "code",
   "execution_count": 16,
   "id": "3928e7ec",
   "metadata": {},
   "outputs": [
    {
     "data": {
      "text/html": [
       "<div>\n",
       "<style scoped>\n",
       "    .dataframe tbody tr th:only-of-type {\n",
       "        vertical-align: middle;\n",
       "    }\n",
       "\n",
       "    .dataframe tbody tr th {\n",
       "        vertical-align: top;\n",
       "    }\n",
       "\n",
       "    .dataframe thead th {\n",
       "        text-align: right;\n",
       "    }\n",
       "</style>\n",
       "<table border=\"1\" class=\"dataframe\">\n",
       "  <thead>\n",
       "    <tr style=\"text-align: right;\">\n",
       "      <th></th>\n",
       "      <th>Anil</th>\n",
       "      <th>22</th>\n",
       "      <th>25000</th>\n",
       "      <th>M</th>\n",
       "    </tr>\n",
       "  </thead>\n",
       "  <tbody>\n",
       "    <tr>\n",
       "      <th>0</th>\n",
       "      <td>Sunil</td>\n",
       "      <td>24</td>\n",
       "      <td>35000</td>\n",
       "      <td>M</td>\n",
       "    </tr>\n",
       "    <tr>\n",
       "      <th>1</th>\n",
       "      <td>Ashok</td>\n",
       "      <td>26</td>\n",
       "      <td>45000</td>\n",
       "      <td>M</td>\n",
       "    </tr>\n",
       "    <tr>\n",
       "      <th>2</th>\n",
       "      <td>Seema</td>\n",
       "      <td>28</td>\n",
       "      <td>55000</td>\n",
       "      <td>F</td>\n",
       "    </tr>\n",
       "    <tr>\n",
       "      <th>3</th>\n",
       "      <td>Reema</td>\n",
       "      <td>30</td>\n",
       "      <td>65000</td>\n",
       "      <td>F</td>\n",
       "    </tr>\n",
       "  </tbody>\n",
       "</table>\n",
       "</div>"
      ],
      "text/plain": [
       "    Anil  22  25000  M\n",
       "0  Sunil  24  35000  M\n",
       "1  Ashok  26  45000  M\n",
       "2  Seema  28  55000  F\n",
       "3  Reema  30  65000  F"
      ]
     },
     "execution_count": 16,
     "metadata": {},
     "output_type": "execute_result"
    }
   ],
   "source": [
    "data = pd.read_csv(r'C:\\Users\\chiluveru Akshay\\Desktop\\Data wrangling\\DS31032023-main\\Data Wrangling & Visualization\\20-7-2023\\sample data.csv')\n",
    "data"
   ]
  },
  {
   "cell_type": "markdown",
   "id": "534599ac",
   "metadata": {},
   "source": [
    "# Loading the data from a tsv file"
   ]
  },
  {
   "cell_type": "code",
   "execution_count": 23,
   "id": "6c604170",
   "metadata": {},
   "outputs": [
    {
     "data": {
      "text/html": [
       "<div>\n",
       "<style scoped>\n",
       "    .dataframe tbody tr th:only-of-type {\n",
       "        vertical-align: middle;\n",
       "    }\n",
       "\n",
       "    .dataframe tbody tr th {\n",
       "        vertical-align: top;\n",
       "    }\n",
       "\n",
       "    .dataframe thead th {\n",
       "        text-align: right;\n",
       "    }\n",
       "</style>\n",
       "<table border=\"1\" class=\"dataframe\">\n",
       "  <thead>\n",
       "    <tr style=\"text-align: right;\">\n",
       "      <th></th>\n",
       "      <th>FID</th>\n",
       "      <th>AFFGEOID</th>\n",
       "      <th>TRACTCE</th>\n",
       "      <th>ST</th>\n",
       "      <th>STATE</th>\n",
       "      <th>ST_ABBR</th>\n",
       "      <th>STCNTY</th>\n",
       "      <th>COUNTY</th>\n",
       "      <th>FIPS</th>\n",
       "      <th>LOCATION</th>\n",
       "      <th>...</th>\n",
       "      <th>F_CROWD</th>\n",
       "      <th>F_NOVEH</th>\n",
       "      <th>F_GROUPQ</th>\n",
       "      <th>F_THEME4</th>\n",
       "      <th>F_TOTAL</th>\n",
       "      <th>E_UNINSUR</th>\n",
       "      <th>M_UNINSUR</th>\n",
       "      <th>EP_UNINSUR</th>\n",
       "      <th>MP_UNINSUR</th>\n",
       "      <th>E_DAYPOP</th>\n",
       "    </tr>\n",
       "  </thead>\n",
       "  <tbody>\n",
       "    <tr>\n",
       "      <th>0</th>\n",
       "      <td>-1</td>\n",
       "      <td>1400000US36065023400</td>\n",
       "      <td>23400</td>\n",
       "      <td>36</td>\n",
       "      <td>New York</td>\n",
       "      <td>NY</td>\n",
       "      <td>36065</td>\n",
       "      <td>Oneida</td>\n",
       "      <td>36065023400</td>\n",
       "      <td>Census Tract 234, Oneida County, New York</td>\n",
       "      <td>...</td>\n",
       "      <td>0</td>\n",
       "      <td>0</td>\n",
       "      <td>1</td>\n",
       "      <td>1</td>\n",
       "      <td>2</td>\n",
       "      <td>154</td>\n",
       "      <td>125</td>\n",
       "      <td>3.6</td>\n",
       "      <td>2.9</td>\n",
       "      <td>10017</td>\n",
       "    </tr>\n",
       "    <tr>\n",
       "      <th>1</th>\n",
       "      <td>-1</td>\n",
       "      <td>1400000US36065023501</td>\n",
       "      <td>23501</td>\n",
       "      <td>36</td>\n",
       "      <td>New York</td>\n",
       "      <td>NY</td>\n",
       "      <td>36065</td>\n",
       "      <td>Oneida</td>\n",
       "      <td>36065023501</td>\n",
       "      <td>Census Tract 235.01, Oneida County, New York</td>\n",
       "      <td>...</td>\n",
       "      <td>0</td>\n",
       "      <td>0</td>\n",
       "      <td>0</td>\n",
       "      <td>0</td>\n",
       "      <td>1</td>\n",
       "      <td>151</td>\n",
       "      <td>100</td>\n",
       "      <td>6.3</td>\n",
       "      <td>4.2</td>\n",
       "      <td>912</td>\n",
       "    </tr>\n",
       "    <tr>\n",
       "      <th>2</th>\n",
       "      <td>-1</td>\n",
       "      <td>1400000US36065023502</td>\n",
       "      <td>23502</td>\n",
       "      <td>36</td>\n",
       "      <td>New York</td>\n",
       "      <td>NY</td>\n",
       "      <td>36065</td>\n",
       "      <td>Oneida</td>\n",
       "      <td>36065023502</td>\n",
       "      <td>Census Tract 235.02, Oneida County, New York</td>\n",
       "      <td>...</td>\n",
       "      <td>0</td>\n",
       "      <td>0</td>\n",
       "      <td>0</td>\n",
       "      <td>0</td>\n",
       "      <td>0</td>\n",
       "      <td>131</td>\n",
       "      <td>85</td>\n",
       "      <td>2.9</td>\n",
       "      <td>1.8</td>\n",
       "      <td>3057</td>\n",
       "    </tr>\n",
       "    <tr>\n",
       "      <th>3</th>\n",
       "      <td>-1</td>\n",
       "      <td>1400000US36065023702</td>\n",
       "      <td>23702</td>\n",
       "      <td>36</td>\n",
       "      <td>New York</td>\n",
       "      <td>NY</td>\n",
       "      <td>36065</td>\n",
       "      <td>Oneida</td>\n",
       "      <td>36065023702</td>\n",
       "      <td>Census Tract 237.02, Oneida County, New York</td>\n",
       "      <td>...</td>\n",
       "      <td>0</td>\n",
       "      <td>0</td>\n",
       "      <td>0</td>\n",
       "      <td>0</td>\n",
       "      <td>0</td>\n",
       "      <td>385</td>\n",
       "      <td>136</td>\n",
       "      <td>10.2</td>\n",
       "      <td>3.6</td>\n",
       "      <td>1407</td>\n",
       "    </tr>\n",
       "    <tr>\n",
       "      <th>4</th>\n",
       "      <td>-1</td>\n",
       "      <td>1400000US36065023901</td>\n",
       "      <td>23901</td>\n",
       "      <td>36</td>\n",
       "      <td>New York</td>\n",
       "      <td>NY</td>\n",
       "      <td>36065</td>\n",
       "      <td>Oneida</td>\n",
       "      <td>36065023901</td>\n",
       "      <td>Census Tract 239.01, Oneida County, New York</td>\n",
       "      <td>...</td>\n",
       "      <td>0</td>\n",
       "      <td>0</td>\n",
       "      <td>0</td>\n",
       "      <td>0</td>\n",
       "      <td>0</td>\n",
       "      <td>165</td>\n",
       "      <td>97</td>\n",
       "      <td>7.2</td>\n",
       "      <td>4.3</td>\n",
       "      <td>1646</td>\n",
       "    </tr>\n",
       "    <tr>\n",
       "      <th>5</th>\n",
       "      <td>-1</td>\n",
       "      <td>1400000US36065023902</td>\n",
       "      <td>23902</td>\n",
       "      <td>36</td>\n",
       "      <td>New York</td>\n",
       "      <td>NY</td>\n",
       "      <td>36065</td>\n",
       "      <td>Oneida</td>\n",
       "      <td>36065023902</td>\n",
       "      <td>Census Tract 239.02, Oneida County, New York</td>\n",
       "      <td>...</td>\n",
       "      <td>0</td>\n",
       "      <td>0</td>\n",
       "      <td>0</td>\n",
       "      <td>0</td>\n",
       "      <td>0</td>\n",
       "      <td>155</td>\n",
       "      <td>77</td>\n",
       "      <td>7.8</td>\n",
       "      <td>3.8</td>\n",
       "      <td>873</td>\n",
       "    </tr>\n",
       "    <tr>\n",
       "      <th>6</th>\n",
       "      <td>-1</td>\n",
       "      <td>1400000US36065024000</td>\n",
       "      <td>24000</td>\n",
       "      <td>36</td>\n",
       "      <td>New York</td>\n",
       "      <td>NY</td>\n",
       "      <td>36065</td>\n",
       "      <td>Oneida</td>\n",
       "      <td>36065024000</td>\n",
       "      <td>Census Tract 240, Oneida County, New York</td>\n",
       "      <td>...</td>\n",
       "      <td>0</td>\n",
       "      <td>0</td>\n",
       "      <td>0</td>\n",
       "      <td>0</td>\n",
       "      <td>0</td>\n",
       "      <td>169</td>\n",
       "      <td>85</td>\n",
       "      <td>3.8</td>\n",
       "      <td>1.9</td>\n",
       "      <td>4696</td>\n",
       "    </tr>\n",
       "    <tr>\n",
       "      <th>7</th>\n",
       "      <td>-1</td>\n",
       "      <td>1400000US36065024101</td>\n",
       "      <td>24101</td>\n",
       "      <td>36</td>\n",
       "      <td>New York</td>\n",
       "      <td>NY</td>\n",
       "      <td>36065</td>\n",
       "      <td>Oneida</td>\n",
       "      <td>36065024101</td>\n",
       "      <td>Census Tract 241.01, Oneida County, New York</td>\n",
       "      <td>...</td>\n",
       "      <td>0</td>\n",
       "      <td>0</td>\n",
       "      <td>0</td>\n",
       "      <td>0</td>\n",
       "      <td>2</td>\n",
       "      <td>93</td>\n",
       "      <td>38</td>\n",
       "      <td>6.3</td>\n",
       "      <td>2.5</td>\n",
       "      <td>921</td>\n",
       "    </tr>\n",
       "  </tbody>\n",
       "</table>\n",
       "<p>8 rows × 127 columns</p>\n",
       "</div>"
      ],
      "text/plain": [
       "   FID              AFFGEOID  TRACTCE  ST      STATE ST_ABBR  STCNTY   COUNTY  \\\n",
       "0   -1  1400000US36065023400    23400  36   New York      NY   36065   Oneida   \n",
       "1   -1  1400000US36065023501    23501  36   New York      NY   36065   Oneida   \n",
       "2   -1  1400000US36065023502    23502  36   New York      NY   36065   Oneida   \n",
       "3   -1  1400000US36065023702    23702  36   New York      NY   36065   Oneida   \n",
       "4   -1  1400000US36065023901    23901  36   New York      NY   36065   Oneida   \n",
       "5   -1  1400000US36065023902    23902  36   New York      NY   36065   Oneida   \n",
       "6   -1  1400000US36065024000    24000  36   New York      NY   36065   Oneida   \n",
       "7   -1  1400000US36065024101    24101  36   New York      NY   36065   Oneida   \n",
       "\n",
       "          FIPS                                      LOCATION  ...  F_CROWD  \\\n",
       "0  36065023400     Census Tract 234, Oneida County, New York  ...        0   \n",
       "1  36065023501  Census Tract 235.01, Oneida County, New York  ...        0   \n",
       "2  36065023502  Census Tract 235.02, Oneida County, New York  ...        0   \n",
       "3  36065023702  Census Tract 237.02, Oneida County, New York  ...        0   \n",
       "4  36065023901  Census Tract 239.01, Oneida County, New York  ...        0   \n",
       "5  36065023902  Census Tract 239.02, Oneida County, New York  ...        0   \n",
       "6  36065024000     Census Tract 240, Oneida County, New York  ...        0   \n",
       "7  36065024101  Census Tract 241.01, Oneida County, New York  ...        0   \n",
       "\n",
       "   F_NOVEH  F_GROUPQ  F_THEME4  F_TOTAL  E_UNINSUR  M_UNINSUR  EP_UNINSUR  \\\n",
       "0        0         1         1        2        154        125         3.6   \n",
       "1        0         0         0        1        151        100         6.3   \n",
       "2        0         0         0        0        131         85         2.9   \n",
       "3        0         0         0        0        385        136        10.2   \n",
       "4        0         0         0        0        165         97         7.2   \n",
       "5        0         0         0        0        155         77         7.8   \n",
       "6        0         0         0        0        169         85         3.8   \n",
       "7        0         0         0        2         93         38         6.3   \n",
       "\n",
       "   MP_UNINSUR  E_DAYPOP  \n",
       "0         2.9     10017  \n",
       "1         4.2       912  \n",
       "2         1.8      3057  \n",
       "3         3.6      1407  \n",
       "4         4.3      1646  \n",
       "5         3.8       873  \n",
       "6         1.9      4696  \n",
       "7         2.5       921  \n",
       "\n",
       "[8 rows x 127 columns]"
      ]
     },
     "execution_count": 23,
     "metadata": {},
     "output_type": "execute_result"
    }
   ],
   "source": [
    "data1 = pd.read_csv(r'C:\\Users\\chiluveru Akshay\\Desktop\\Data wrangling\\DS31032023-main\\Data Wrangling & Visualization\\20-7-2023\\sample-data.tsv',sep = '\\t')\n",
    "data1"
   ]
  },
  {
   "cell_type": "markdown",
   "id": "4a290a7c",
   "metadata": {},
   "source": [
    "# Load the Data from Excel file"
   ]
  },
  {
   "cell_type": "code",
   "execution_count": 24,
   "id": "d16da11a",
   "metadata": {},
   "outputs": [
    {
     "data": {
      "text/html": [
       "<div>\n",
       "<style scoped>\n",
       "    .dataframe tbody tr th:only-of-type {\n",
       "        vertical-align: middle;\n",
       "    }\n",
       "\n",
       "    .dataframe tbody tr th {\n",
       "        vertical-align: top;\n",
       "    }\n",
       "\n",
       "    .dataframe thead th {\n",
       "        text-align: right;\n",
       "    }\n",
       "</style>\n",
       "<table border=\"1\" class=\"dataframe\">\n",
       "  <thead>\n",
       "    <tr style=\"text-align: right;\">\n",
       "      <th></th>\n",
       "      <th>Anil</th>\n",
       "      <th>22</th>\n",
       "      <th>25000</th>\n",
       "      <th>M</th>\n",
       "    </tr>\n",
       "  </thead>\n",
       "  <tbody>\n",
       "    <tr>\n",
       "      <th>0</th>\n",
       "      <td>Sunil</td>\n",
       "      <td>24</td>\n",
       "      <td>35000</td>\n",
       "      <td>M</td>\n",
       "    </tr>\n",
       "    <tr>\n",
       "      <th>1</th>\n",
       "      <td>Ashok</td>\n",
       "      <td>26</td>\n",
       "      <td>45000</td>\n",
       "      <td>M</td>\n",
       "    </tr>\n",
       "    <tr>\n",
       "      <th>2</th>\n",
       "      <td>Seema</td>\n",
       "      <td>28</td>\n",
       "      <td>55000</td>\n",
       "      <td>F</td>\n",
       "    </tr>\n",
       "    <tr>\n",
       "      <th>3</th>\n",
       "      <td>Reema</td>\n",
       "      <td>30</td>\n",
       "      <td>65000</td>\n",
       "      <td>F</td>\n",
       "    </tr>\n",
       "  </tbody>\n",
       "</table>\n",
       "</div>"
      ],
      "text/plain": [
       "    Anil  22  25000  M\n",
       "0  Sunil  24  35000  M\n",
       "1  Ashok  26  45000  M\n",
       "2  Seema  28  55000  F\n",
       "3  Reema  30  65000  F"
      ]
     },
     "execution_count": 24,
     "metadata": {},
     "output_type": "execute_result"
    }
   ],
   "source": [
    "data2 = pd.read_excel(r'C:\\Users\\chiluveru Akshay\\Desktop\\Data wrangling\\DS31032023-main\\Data Wrangling & Visualization\\20-7-2023\\Sample data.xlsx')\n",
    "data2"
   ]
  },
  {
   "cell_type": "code",
   "execution_count": 25,
   "id": "83a2c0e2",
   "metadata": {},
   "outputs": [
    {
     "data": {
      "text/html": [
       "<div>\n",
       "<style scoped>\n",
       "    .dataframe tbody tr th:only-of-type {\n",
       "        vertical-align: middle;\n",
       "    }\n",
       "\n",
       "    .dataframe tbody tr th {\n",
       "        vertical-align: top;\n",
       "    }\n",
       "\n",
       "    .dataframe thead th {\n",
       "        text-align: right;\n",
       "    }\n",
       "</style>\n",
       "<table border=\"1\" class=\"dataframe\">\n",
       "  <thead>\n",
       "    <tr style=\"text-align: right;\">\n",
       "      <th></th>\n",
       "      <th>rank</th>\n",
       "      <th>male</th>\n",
       "      <th>female</th>\n",
       "      <th>year</th>\n",
       "    </tr>\n",
       "  </thead>\n",
       "  <tbody>\n",
       "    <tr>\n",
       "      <th>0</th>\n",
       "      <td>1</td>\n",
       "      <td>John</td>\n",
       "      <td>Mary</td>\n",
       "      <td>1880</td>\n",
       "    </tr>\n",
       "    <tr>\n",
       "      <th>1</th>\n",
       "      <td>2</td>\n",
       "      <td>William</td>\n",
       "      <td>Anna</td>\n",
       "      <td>1880</td>\n",
       "    </tr>\n",
       "    <tr>\n",
       "      <th>2</th>\n",
       "      <td>3</td>\n",
       "      <td>James</td>\n",
       "      <td>Emma</td>\n",
       "      <td>1880</td>\n",
       "    </tr>\n",
       "    <tr>\n",
       "      <th>3</th>\n",
       "      <td>4</td>\n",
       "      <td>Charles</td>\n",
       "      <td>Elizabeth</td>\n",
       "      <td>1880</td>\n",
       "    </tr>\n",
       "    <tr>\n",
       "      <th>4</th>\n",
       "      <td>5</td>\n",
       "      <td>George</td>\n",
       "      <td>Minnie</td>\n",
       "      <td>1880</td>\n",
       "    </tr>\n",
       "    <tr>\n",
       "      <th>...</th>\n",
       "      <td>...</td>\n",
       "      <td>...</td>\n",
       "      <td>...</td>\n",
       "      <td>...</td>\n",
       "    </tr>\n",
       "    <tr>\n",
       "      <th>2815</th>\n",
       "      <td>16</td>\n",
       "      <td>Logan</td>\n",
       "      <td>Elizabeth</td>\n",
       "      <td>2020</td>\n",
       "    </tr>\n",
       "    <tr>\n",
       "      <th>2816</th>\n",
       "      <td>17</td>\n",
       "      <td>Jackson</td>\n",
       "      <td>Sofia</td>\n",
       "      <td>2020</td>\n",
       "    </tr>\n",
       "    <tr>\n",
       "      <th>2817</th>\n",
       "      <td>18</td>\n",
       "      <td>Levi</td>\n",
       "      <td>Emily</td>\n",
       "      <td>2020</td>\n",
       "    </tr>\n",
       "    <tr>\n",
       "      <th>2818</th>\n",
       "      <td>19</td>\n",
       "      <td>Sebastian</td>\n",
       "      <td>Avery</td>\n",
       "      <td>2020</td>\n",
       "    </tr>\n",
       "    <tr>\n",
       "      <th>2819</th>\n",
       "      <td>20</td>\n",
       "      <td>Mateo</td>\n",
       "      <td>Mila</td>\n",
       "      <td>2020</td>\n",
       "    </tr>\n",
       "  </tbody>\n",
       "</table>\n",
       "<p>2820 rows × 4 columns</p>\n",
       "</div>"
      ],
      "text/plain": [
       "      rank       male     female  year\n",
       "0        1       John       Mary  1880\n",
       "1        2    William       Anna  1880\n",
       "2        3      James       Emma  1880\n",
       "3        4    Charles  Elizabeth  1880\n",
       "4        5     George     Minnie  1880\n",
       "...    ...        ...        ...   ...\n",
       "2815    16      Logan  Elizabeth  2020\n",
       "2816    17    Jackson      Sofia  2020\n",
       "2817    18       Levi      Emily  2020\n",
       "2818    19  Sebastian      Avery  2020\n",
       "2819    20      Mateo       Mila  2020\n",
       "\n",
       "[2820 rows x 4 columns]"
      ]
     },
     "execution_count": 25,
     "metadata": {},
     "output_type": "execute_result"
    }
   ],
   "source": [
    "data2 = pd.read_csv(r'C:\\Users\\chiluveru Akshay\\Desktop\\Data wrangling\\DS31032023-main\\Data Wrangling & Visualization\\20-7-2023\\baby_names.csv')\n",
    "data2"
   ]
  },
  {
   "cell_type": "markdown",
   "id": "91ecc007",
   "metadata": {},
   "source": [
    "### Head will display the top 5(default) rows of the file"
   ]
  },
  {
   "cell_type": "code",
   "execution_count": 26,
   "id": "f71e1436",
   "metadata": {},
   "outputs": [
    {
     "data": {
      "text/html": [
       "<div>\n",
       "<style scoped>\n",
       "    .dataframe tbody tr th:only-of-type {\n",
       "        vertical-align: middle;\n",
       "    }\n",
       "\n",
       "    .dataframe tbody tr th {\n",
       "        vertical-align: top;\n",
       "    }\n",
       "\n",
       "    .dataframe thead th {\n",
       "        text-align: right;\n",
       "    }\n",
       "</style>\n",
       "<table border=\"1\" class=\"dataframe\">\n",
       "  <thead>\n",
       "    <tr style=\"text-align: right;\">\n",
       "      <th></th>\n",
       "      <th>rank</th>\n",
       "      <th>male</th>\n",
       "      <th>female</th>\n",
       "      <th>year</th>\n",
       "    </tr>\n",
       "  </thead>\n",
       "  <tbody>\n",
       "    <tr>\n",
       "      <th>0</th>\n",
       "      <td>1</td>\n",
       "      <td>John</td>\n",
       "      <td>Mary</td>\n",
       "      <td>1880</td>\n",
       "    </tr>\n",
       "    <tr>\n",
       "      <th>1</th>\n",
       "      <td>2</td>\n",
       "      <td>William</td>\n",
       "      <td>Anna</td>\n",
       "      <td>1880</td>\n",
       "    </tr>\n",
       "    <tr>\n",
       "      <th>2</th>\n",
       "      <td>3</td>\n",
       "      <td>James</td>\n",
       "      <td>Emma</td>\n",
       "      <td>1880</td>\n",
       "    </tr>\n",
       "    <tr>\n",
       "      <th>3</th>\n",
       "      <td>4</td>\n",
       "      <td>Charles</td>\n",
       "      <td>Elizabeth</td>\n",
       "      <td>1880</td>\n",
       "    </tr>\n",
       "    <tr>\n",
       "      <th>4</th>\n",
       "      <td>5</td>\n",
       "      <td>George</td>\n",
       "      <td>Minnie</td>\n",
       "      <td>1880</td>\n",
       "    </tr>\n",
       "  </tbody>\n",
       "</table>\n",
       "</div>"
      ],
      "text/plain": [
       "   rank     male     female  year\n",
       "0     1     John       Mary  1880\n",
       "1     2  William       Anna  1880\n",
       "2     3    James       Emma  1880\n",
       "3     4  Charles  Elizabeth  1880\n",
       "4     5   George     Minnie  1880"
      ]
     },
     "execution_count": 26,
     "metadata": {},
     "output_type": "execute_result"
    }
   ],
   "source": [
    "data2.head()"
   ]
  },
  {
   "cell_type": "markdown",
   "id": "9e253c51",
   "metadata": {},
   "source": [
    "### Tail will display the bottom 5(default) rows of the file"
   ]
  },
  {
   "cell_type": "code",
   "execution_count": 27,
   "id": "85a90d1d",
   "metadata": {},
   "outputs": [
    {
     "data": {
      "text/html": [
       "<div>\n",
       "<style scoped>\n",
       "    .dataframe tbody tr th:only-of-type {\n",
       "        vertical-align: middle;\n",
       "    }\n",
       "\n",
       "    .dataframe tbody tr th {\n",
       "        vertical-align: top;\n",
       "    }\n",
       "\n",
       "    .dataframe thead th {\n",
       "        text-align: right;\n",
       "    }\n",
       "</style>\n",
       "<table border=\"1\" class=\"dataframe\">\n",
       "  <thead>\n",
       "    <tr style=\"text-align: right;\">\n",
       "      <th></th>\n",
       "      <th>rank</th>\n",
       "      <th>male</th>\n",
       "      <th>female</th>\n",
       "      <th>year</th>\n",
       "    </tr>\n",
       "  </thead>\n",
       "  <tbody>\n",
       "    <tr>\n",
       "      <th>2815</th>\n",
       "      <td>16</td>\n",
       "      <td>Logan</td>\n",
       "      <td>Elizabeth</td>\n",
       "      <td>2020</td>\n",
       "    </tr>\n",
       "    <tr>\n",
       "      <th>2816</th>\n",
       "      <td>17</td>\n",
       "      <td>Jackson</td>\n",
       "      <td>Sofia</td>\n",
       "      <td>2020</td>\n",
       "    </tr>\n",
       "    <tr>\n",
       "      <th>2817</th>\n",
       "      <td>18</td>\n",
       "      <td>Levi</td>\n",
       "      <td>Emily</td>\n",
       "      <td>2020</td>\n",
       "    </tr>\n",
       "    <tr>\n",
       "      <th>2818</th>\n",
       "      <td>19</td>\n",
       "      <td>Sebastian</td>\n",
       "      <td>Avery</td>\n",
       "      <td>2020</td>\n",
       "    </tr>\n",
       "    <tr>\n",
       "      <th>2819</th>\n",
       "      <td>20</td>\n",
       "      <td>Mateo</td>\n",
       "      <td>Mila</td>\n",
       "      <td>2020</td>\n",
       "    </tr>\n",
       "  </tbody>\n",
       "</table>\n",
       "</div>"
      ],
      "text/plain": [
       "      rank       male     female  year\n",
       "2815    16      Logan  Elizabeth  2020\n",
       "2816    17    Jackson      Sofia  2020\n",
       "2817    18       Levi      Emily  2020\n",
       "2818    19  Sebastian      Avery  2020\n",
       "2819    20      Mateo       Mila  2020"
      ]
     },
     "execution_count": 27,
     "metadata": {},
     "output_type": "execute_result"
    }
   ],
   "source": [
    "data2.tail()"
   ]
  },
  {
   "cell_type": "code",
   "execution_count": 29,
   "id": "174b9c4d",
   "metadata": {},
   "outputs": [
    {
     "data": {
      "text/plain": [
       "(4, 4)"
      ]
     },
     "execution_count": 29,
     "metadata": {},
     "output_type": "execute_result"
    }
   ],
   "source": [
    "data.shape"
   ]
  },
  {
   "cell_type": "markdown",
   "id": "b48d8625",
   "metadata": {},
   "source": [
    "### To know the number of rows and columns we use shape"
   ]
  },
  {
   "cell_type": "code",
   "execution_count": 30,
   "id": "5e7f26c1",
   "metadata": {},
   "outputs": [
    {
     "data": {
      "text/plain": [
       "(2820, 4)"
      ]
     },
     "execution_count": 30,
     "metadata": {},
     "output_type": "execute_result"
    }
   ],
   "source": [
    "data2.shape"
   ]
  },
  {
   "cell_type": "code",
   "execution_count": 31,
   "id": "aa8ac68b",
   "metadata": {},
   "outputs": [
    {
     "data": {
      "text/plain": [
       "rank       int64\n",
       "male      object\n",
       "female    object\n",
       "year       int64\n",
       "dtype: object"
      ]
     },
     "execution_count": 31,
     "metadata": {},
     "output_type": "execute_result"
    }
   ],
   "source": [
    "data2.dtypes"
   ]
  },
  {
   "cell_type": "code",
   "execution_count": 32,
   "id": "20b0a88b",
   "metadata": {},
   "outputs": [
    {
     "data": {
      "text/plain": [
       "0            John\n",
       "1         William\n",
       "2           James\n",
       "3         Charles\n",
       "4          George\n",
       "          ...    \n",
       "2815        Logan\n",
       "2816      Jackson\n",
       "2817         Levi\n",
       "2818    Sebastian\n",
       "2819        Mateo\n",
       "Name: male, Length: 2820, dtype: object"
      ]
     },
     "execution_count": 32,
     "metadata": {},
     "output_type": "execute_result"
    }
   ],
   "source": [
    "data2['male']"
   ]
  },
  {
   "cell_type": "code",
   "execution_count": 33,
   "id": "0c3991cb",
   "metadata": {},
   "outputs": [
    {
     "data": {
      "text/plain": [
       "Index(['rank', 'male', 'female', 'year'], dtype='object')"
      ]
     },
     "execution_count": 33,
     "metadata": {},
     "output_type": "execute_result"
    }
   ],
   "source": [
    "data2.columns\n"
   ]
  },
  {
   "cell_type": "code",
   "execution_count": 34,
   "id": "39ae7d17",
   "metadata": {},
   "outputs": [
    {
     "data": {
      "text/plain": [
       "['rank', 'male', 'female', 'year']"
      ]
     },
     "execution_count": 34,
     "metadata": {},
     "output_type": "execute_result"
    }
   ],
   "source": [
    "data2.columns.to_list()"
   ]
  },
  {
   "cell_type": "code",
   "execution_count": 36,
   "id": "20766580",
   "metadata": {},
   "outputs": [
    {
     "name": "stdout",
     "output_type": "stream",
     "text": [
      "<class 'pandas.core.frame.DataFrame'>\n",
      "RangeIndex: 2820 entries, 0 to 2819\n",
      "Data columns (total 4 columns):\n",
      " #   Column  Non-Null Count  Dtype \n",
      "---  ------  --------------  ----- \n",
      " 0   rank    2820 non-null   int64 \n",
      " 1   male    2820 non-null   object\n",
      " 2   female  2820 non-null   object\n",
      " 3   year    2820 non-null   int64 \n",
      "dtypes: int64(2), object(2)\n",
      "memory usage: 88.2+ KB\n"
     ]
    }
   ],
   "source": [
    "data2.info()\n"
   ]
  },
  {
   "cell_type": "code",
   "execution_count": 37,
   "id": "da9a8a71",
   "metadata": {},
   "outputs": [
    {
     "data": {
      "text/plain": [
       "pandas.core.frame.DataFrame"
      ]
     },
     "execution_count": 37,
     "metadata": {},
     "output_type": "execute_result"
    }
   ],
   "source": [
    "type(data2)"
   ]
  },
  {
   "cell_type": "code",
   "execution_count": 38,
   "id": "ca809c2a",
   "metadata": {},
   "outputs": [
    {
     "data": {
      "text/html": [
       "<div>\n",
       "<style scoped>\n",
       "    .dataframe tbody tr th:only-of-type {\n",
       "        vertical-align: middle;\n",
       "    }\n",
       "\n",
       "    .dataframe tbody tr th {\n",
       "        vertical-align: top;\n",
       "    }\n",
       "\n",
       "    .dataframe thead th {\n",
       "        text-align: right;\n",
       "    }\n",
       "</style>\n",
       "<table border=\"1\" class=\"dataframe\">\n",
       "  <thead>\n",
       "    <tr style=\"text-align: right;\">\n",
       "      <th></th>\n",
       "      <th>Anil</th>\n",
       "      <th>22</th>\n",
       "      <th>25000</th>\n",
       "      <th>M</th>\n",
       "    </tr>\n",
       "  </thead>\n",
       "  <tbody>\n",
       "    <tr>\n",
       "      <th>0</th>\n",
       "      <td>Sunil</td>\n",
       "      <td>24</td>\n",
       "      <td>35000</td>\n",
       "      <td>M</td>\n",
       "    </tr>\n",
       "    <tr>\n",
       "      <th>1</th>\n",
       "      <td>Ashok</td>\n",
       "      <td>26</td>\n",
       "      <td>45000</td>\n",
       "      <td>M</td>\n",
       "    </tr>\n",
       "    <tr>\n",
       "      <th>2</th>\n",
       "      <td>Seema</td>\n",
       "      <td>28</td>\n",
       "      <td>55000</td>\n",
       "      <td>F</td>\n",
       "    </tr>\n",
       "    <tr>\n",
       "      <th>3</th>\n",
       "      <td>Reema</td>\n",
       "      <td>30</td>\n",
       "      <td>65000</td>\n",
       "      <td>F</td>\n",
       "    </tr>\n",
       "  </tbody>\n",
       "</table>\n",
       "</div>"
      ],
      "text/plain": [
       "    Anil  22  25000  M\n",
       "0  Sunil  24  35000  M\n",
       "1  Ashok  26  45000  M\n",
       "2  Seema  28  55000  F\n",
       "3  Reema  30  65000  F"
      ]
     },
     "execution_count": 38,
     "metadata": {},
     "output_type": "execute_result"
    }
   ],
   "source": [
    "data"
   ]
  },
  {
   "cell_type": "code",
   "execution_count": 41,
   "id": "ab6f2ada",
   "metadata": {},
   "outputs": [
    {
     "data": {
      "text/html": [
       "<div>\n",
       "<style scoped>\n",
       "    .dataframe tbody tr th:only-of-type {\n",
       "        vertical-align: middle;\n",
       "    }\n",
       "\n",
       "    .dataframe tbody tr th {\n",
       "        vertical-align: top;\n",
       "    }\n",
       "\n",
       "    .dataframe thead th {\n",
       "        text-align: right;\n",
       "    }\n",
       "</style>\n",
       "<table border=\"1\" class=\"dataframe\">\n",
       "  <thead>\n",
       "    <tr style=\"text-align: right;\">\n",
       "      <th></th>\n",
       "      <th>Name</th>\n",
       "      <th>Age</th>\n",
       "      <th>Gender</th>\n",
       "      <th>Salary</th>\n",
       "    </tr>\n",
       "  </thead>\n",
       "  <tbody>\n",
       "    <tr>\n",
       "      <th>0</th>\n",
       "      <td>Akshay</td>\n",
       "      <td>23</td>\n",
       "      <td>Male</td>\n",
       "      <td>200</td>\n",
       "    </tr>\n",
       "    <tr>\n",
       "      <th>1</th>\n",
       "      <td>Naveena</td>\n",
       "      <td>28</td>\n",
       "      <td>Female</td>\n",
       "      <td>300</td>\n",
       "    </tr>\n",
       "    <tr>\n",
       "      <th>2</th>\n",
       "      <td>Nithin</td>\n",
       "      <td>30</td>\n",
       "      <td>Male</td>\n",
       "      <td>755</td>\n",
       "    </tr>\n",
       "    <tr>\n",
       "      <th>3</th>\n",
       "      <td>Naina</td>\n",
       "      <td>5</td>\n",
       "      <td>Female</td>\n",
       "      <td>444</td>\n",
       "    </tr>\n",
       "    <tr>\n",
       "      <th>4</th>\n",
       "      <td>Tinku</td>\n",
       "      <td>24</td>\n",
       "      <td>Male</td>\n",
       "      <td>288</td>\n",
       "    </tr>\n",
       "    <tr>\n",
       "      <th>5</th>\n",
       "      <td>Nainika</td>\n",
       "      <td>6</td>\n",
       "      <td>Female</td>\n",
       "      <td>900</td>\n",
       "    </tr>\n",
       "  </tbody>\n",
       "</table>\n",
       "</div>"
      ],
      "text/plain": [
       "      Name  Age  Gender  Salary\n",
       "0   Akshay   23    Male     200\n",
       "1  Naveena   28  Female     300\n",
       "2   Nithin   30    Male     755\n",
       "3    Naina    5  Female     444\n",
       "4    Tinku   24    Male     288\n",
       "5  Nainika    6  Female     900"
      ]
     },
     "execution_count": 41,
     "metadata": {},
     "output_type": "execute_result"
    }
   ],
   "source": [
    "data5"
   ]
  },
  {
   "cell_type": "code",
   "execution_count": 46,
   "id": "b5b539ae",
   "metadata": {},
   "outputs": [
    {
     "data": {
      "text/plain": [
       "['Name', 'Gender', 'Salary']"
      ]
     },
     "execution_count": 46,
     "metadata": {},
     "output_type": "execute_result"
    }
   ],
   "source": [
    "column = ['Name','Gender','Salary']\n",
    "column"
   ]
  },
  {
   "cell_type": "code",
   "execution_count": 47,
   "id": "0e851dd3",
   "metadata": {},
   "outputs": [
    {
     "data": {
      "text/html": [
       "<div>\n",
       "<style scoped>\n",
       "    .dataframe tbody tr th:only-of-type {\n",
       "        vertical-align: middle;\n",
       "    }\n",
       "\n",
       "    .dataframe tbody tr th {\n",
       "        vertical-align: top;\n",
       "    }\n",
       "\n",
       "    .dataframe thead th {\n",
       "        text-align: right;\n",
       "    }\n",
       "</style>\n",
       "<table border=\"1\" class=\"dataframe\">\n",
       "  <thead>\n",
       "    <tr style=\"text-align: right;\">\n",
       "      <th></th>\n",
       "      <th>Name</th>\n",
       "      <th>Gender</th>\n",
       "      <th>Salary</th>\n",
       "    </tr>\n",
       "  </thead>\n",
       "  <tbody>\n",
       "    <tr>\n",
       "      <th>0</th>\n",
       "      <td>Akshay</td>\n",
       "      <td>Male</td>\n",
       "      <td>200</td>\n",
       "    </tr>\n",
       "    <tr>\n",
       "      <th>1</th>\n",
       "      <td>Naveena</td>\n",
       "      <td>Female</td>\n",
       "      <td>300</td>\n",
       "    </tr>\n",
       "    <tr>\n",
       "      <th>2</th>\n",
       "      <td>Nithin</td>\n",
       "      <td>Male</td>\n",
       "      <td>755</td>\n",
       "    </tr>\n",
       "    <tr>\n",
       "      <th>3</th>\n",
       "      <td>Naina</td>\n",
       "      <td>Female</td>\n",
       "      <td>444</td>\n",
       "    </tr>\n",
       "    <tr>\n",
       "      <th>4</th>\n",
       "      <td>Tinku</td>\n",
       "      <td>Male</td>\n",
       "      <td>288</td>\n",
       "    </tr>\n",
       "    <tr>\n",
       "      <th>5</th>\n",
       "      <td>Nainika</td>\n",
       "      <td>Female</td>\n",
       "      <td>900</td>\n",
       "    </tr>\n",
       "  </tbody>\n",
       "</table>\n",
       "</div>"
      ],
      "text/plain": [
       "      Name  Gender  Salary\n",
       "0   Akshay    Male     200\n",
       "1  Naveena  Female     300\n",
       "2   Nithin    Male     755\n",
       "3    Naina  Female     444\n",
       "4    Tinku    Male     288\n",
       "5  Nainika  Female     900"
      ]
     },
     "execution_count": 47,
     "metadata": {},
     "output_type": "execute_result"
    }
   ],
   "source": [
    "data5[column]"
   ]
  },
  {
   "cell_type": "code",
   "execution_count": 51,
   "id": "02c2dcaf",
   "metadata": {},
   "outputs": [
    {
     "data": {
      "text/html": [
       "<div>\n",
       "<style scoped>\n",
       "    .dataframe tbody tr th:only-of-type {\n",
       "        vertical-align: middle;\n",
       "    }\n",
       "\n",
       "    .dataframe tbody tr th {\n",
       "        vertical-align: top;\n",
       "    }\n",
       "\n",
       "    .dataframe thead th {\n",
       "        text-align: right;\n",
       "    }\n",
       "</style>\n",
       "<table border=\"1\" class=\"dataframe\">\n",
       "  <thead>\n",
       "    <tr style=\"text-align: right;\">\n",
       "      <th></th>\n",
       "      <th>Name</th>\n",
       "      <th>Gender</th>\n",
       "    </tr>\n",
       "  </thead>\n",
       "  <tbody>\n",
       "    <tr>\n",
       "      <th>0</th>\n",
       "      <td>Akshay</td>\n",
       "      <td>Male</td>\n",
       "    </tr>\n",
       "    <tr>\n",
       "      <th>1</th>\n",
       "      <td>Naveena</td>\n",
       "      <td>Female</td>\n",
       "    </tr>\n",
       "    <tr>\n",
       "      <th>2</th>\n",
       "      <td>Nithin</td>\n",
       "      <td>Male</td>\n",
       "    </tr>\n",
       "    <tr>\n",
       "      <th>3</th>\n",
       "      <td>Naina</td>\n",
       "      <td>Female</td>\n",
       "    </tr>\n",
       "    <tr>\n",
       "      <th>4</th>\n",
       "      <td>Tinku</td>\n",
       "      <td>Male</td>\n",
       "    </tr>\n",
       "    <tr>\n",
       "      <th>5</th>\n",
       "      <td>Nainika</td>\n",
       "      <td>Female</td>\n",
       "    </tr>\n",
       "  </tbody>\n",
       "</table>\n",
       "</div>"
      ],
      "text/plain": [
       "      Name  Gender\n",
       "0   Akshay    Male\n",
       "1  Naveena  Female\n",
       "2   Nithin    Male\n",
       "3    Naina  Female\n",
       "4    Tinku    Male\n",
       "5  Nainika  Female"
      ]
     },
     "execution_count": 51,
     "metadata": {},
     "output_type": "execute_result"
    }
   ],
   "source": [
    "data5[['Name','Gender']]"
   ]
  },
  {
   "cell_type": "code",
   "execution_count": 52,
   "id": "b3857a2c",
   "metadata": {},
   "outputs": [
    {
     "data": {
      "text/plain": [
       "0      Male\n",
       "1    Female\n",
       "2      Male\n",
       "3    Female\n",
       "4      Male\n",
       "5    Female\n",
       "Name: Gender, dtype: object"
      ]
     },
     "execution_count": 52,
     "metadata": {},
     "output_type": "execute_result"
    }
   ],
   "source": [
    "data5['Gender']"
   ]
  },
  {
   "cell_type": "code",
   "execution_count": 57,
   "id": "0ee5c6c2",
   "metadata": {},
   "outputs": [
    {
     "data": {
      "text/plain": [
       "Male      3\n",
       "Female    3\n",
       "Name: Gender, dtype: int64"
      ]
     },
     "execution_count": 57,
     "metadata": {},
     "output_type": "execute_result"
    }
   ],
   "source": [
    "data5['Gender'].value_counts()"
   ]
  },
  {
   "cell_type": "code",
   "execution_count": 64,
   "id": "075796ec",
   "metadata": {},
   "outputs": [
    {
     "data": {
      "text/plain": [
       "Male      0.5\n",
       "Female    0.5\n",
       "Name: Gender, dtype: float64"
      ]
     },
     "execution_count": 64,
     "metadata": {},
     "output_type": "execute_result"
    }
   ],
   "source": [
    "data5['Gender'].value_counts(normalize = True) "
   ]
  },
  {
   "cell_type": "code",
   "execution_count": 65,
   "id": "cf02276f",
   "metadata": {},
   "outputs": [
    {
     "data": {
      "text/plain": [
       "Male      50.0\n",
       "Female    50.0\n",
       "Name: Gender, dtype: float64"
      ]
     },
     "execution_count": 65,
     "metadata": {},
     "output_type": "execute_result"
    }
   ],
   "source": [
    "data5['Gender'].value_counts(normalize = True) * 100"
   ]
  },
  {
   "cell_type": "code",
   "execution_count": 66,
   "id": "227476b9",
   "metadata": {},
   "outputs": [
    {
     "data": {
      "text/html": [
       "<div>\n",
       "<style scoped>\n",
       "    .dataframe tbody tr th:only-of-type {\n",
       "        vertical-align: middle;\n",
       "    }\n",
       "\n",
       "    .dataframe tbody tr th {\n",
       "        vertical-align: top;\n",
       "    }\n",
       "\n",
       "    .dataframe thead th {\n",
       "        text-align: right;\n",
       "    }\n",
       "</style>\n",
       "<table border=\"1\" class=\"dataframe\">\n",
       "  <thead>\n",
       "    <tr style=\"text-align: right;\">\n",
       "      <th></th>\n",
       "      <th>Name</th>\n",
       "      <th>Age</th>\n",
       "      <th>Gender</th>\n",
       "      <th>Salary</th>\n",
       "    </tr>\n",
       "  </thead>\n",
       "  <tbody>\n",
       "    <tr>\n",
       "      <th>0</th>\n",
       "      <td>Akshay</td>\n",
       "      <td>23</td>\n",
       "      <td>Male</td>\n",
       "      <td>200</td>\n",
       "    </tr>\n",
       "    <tr>\n",
       "      <th>1</th>\n",
       "      <td>Naveena</td>\n",
       "      <td>28</td>\n",
       "      <td>Female</td>\n",
       "      <td>300</td>\n",
       "    </tr>\n",
       "    <tr>\n",
       "      <th>2</th>\n",
       "      <td>Nithin</td>\n",
       "      <td>30</td>\n",
       "      <td>Male</td>\n",
       "      <td>755</td>\n",
       "    </tr>\n",
       "    <tr>\n",
       "      <th>3</th>\n",
       "      <td>Naina</td>\n",
       "      <td>5</td>\n",
       "      <td>Female</td>\n",
       "      <td>444</td>\n",
       "    </tr>\n",
       "    <tr>\n",
       "      <th>4</th>\n",
       "      <td>Tinku</td>\n",
       "      <td>24</td>\n",
       "      <td>Male</td>\n",
       "      <td>288</td>\n",
       "    </tr>\n",
       "    <tr>\n",
       "      <th>5</th>\n",
       "      <td>Nainika</td>\n",
       "      <td>6</td>\n",
       "      <td>Female</td>\n",
       "      <td>900</td>\n",
       "    </tr>\n",
       "  </tbody>\n",
       "</table>\n",
       "</div>"
      ],
      "text/plain": [
       "      Name  Age  Gender  Salary\n",
       "0   Akshay   23    Male     200\n",
       "1  Naveena   28  Female     300\n",
       "2   Nithin   30    Male     755\n",
       "3    Naina    5  Female     444\n",
       "4    Tinku   24    Male     288\n",
       "5  Nainika    6  Female     900"
      ]
     },
     "execution_count": 66,
     "metadata": {},
     "output_type": "execute_result"
    }
   ],
   "source": [
    "data5"
   ]
  },
  {
   "cell_type": "code",
   "execution_count": 69,
   "id": "63acac2b",
   "metadata": {},
   "outputs": [
    {
     "data": {
      "text/plain": [
       "Name       Naina\n",
       "Age            5\n",
       "Gender    Female\n",
       "Salary       444\n",
       "Name: 3, dtype: object"
      ]
     },
     "execution_count": 69,
     "metadata": {},
     "output_type": "execute_result"
    }
   ],
   "source": [
    "data5.iloc[3]"
   ]
  },
  {
   "cell_type": "code",
   "execution_count": null,
   "id": "99bd5012",
   "metadata": {},
   "outputs": [],
   "source": []
  }
 ],
 "metadata": {
  "kernelspec": {
   "display_name": "Python 3 (ipykernel)",
   "language": "python",
   "name": "python3"
  },
  "language_info": {
   "codemirror_mode": {
    "name": "ipython",
    "version": 3
   },
   "file_extension": ".py",
   "mimetype": "text/x-python",
   "name": "python",
   "nbconvert_exporter": "python",
   "pygments_lexer": "ipython3",
   "version": "3.9.13"
  }
 },
 "nbformat": 4,
 "nbformat_minor": 5
}
